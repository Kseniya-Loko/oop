{
  "nbformat": 4,
  "nbformat_minor": 0,
  "metadata": {
    "colab": {
      "name": "hw12.ipynb",
      "provenance": [],
      "collapsed_sections": []
    },
    "kernelspec": {
      "name": "python3",
      "display_name": "Python 3"
    },
    "language_info": {
      "name": "python"
    }
  },
  "cells": [
    {
      "cell_type": "code",
      "execution_count": 1,
      "metadata": {
        "colab": {
          "base_uri": "https://localhost:8080/"
        },
        "id": "7KGY-Jnw6QJc",
        "outputId": "337f9b47-b088-4ecb-a4cd-e6d83bec2f5b"
      },
      "outputs": [
        {
          "output_type": "stream",
          "name": "stdout",
          "text": [
            "--2022-06-16 18:42:43--  https://gist.githubusercontent.com/NooblyRand0m/404c8a252f89862654c3fa6bba3d8bc3/raw/26c97aa3876ef33f3509e3b1209402c5c138f06c/coursera_week3_cars.csv\n",
            "Resolving gist.githubusercontent.com (gist.githubusercontent.com)... 185.199.108.133, 185.199.111.133, 185.199.110.133, ...\n",
            "Connecting to gist.githubusercontent.com (gist.githubusercontent.com)|185.199.108.133|:443... connected.\n",
            "HTTP request sent, awaiting response... 200 OK\n",
            "Length: 287 [text/plain]\n",
            "Saving to: ‘coursera_week3_cars.csv’\n",
            "\n",
            "\rcoursera_week3_cars   0%[                    ]       0  --.-KB/s               \rcoursera_week3_cars 100%[===================>]     287  --.-KB/s    in 0s      \n",
            "\n",
            "2022-06-16 18:42:43 (9.41 MB/s) - ‘coursera_week3_cars.csv’ saved [287/287]\n",
            "\n"
          ]
        }
      ],
      "source": [
        "#загрузка данных по ссылке\n",
        "!wget https://gist.githubusercontent.com/NooblyRand0m/404c8a252f89862654c3fa6bba3d8bc3/raw/26c97aa3876ef33f3509e3b1209402c5c138f06c/coursera_week3_cars.csv"
      ]
    },
    {
      "cell_type": "code",
      "source": [
        "!head coursera_week3_cars.csv"
      ],
      "metadata": {
        "colab": {
          "base_uri": "https://localhost:8080/"
        },
        "id": "gStKCTBx6ZVo",
        "outputId": "6b011826-d2f9-4db8-932c-ea50291bc8ea"
      },
      "execution_count": 2,
      "outputs": [
        {
          "output_type": "stream",
          "name": "stdout",
          "text": [
            "car_type;brand;passenger_seats_count;photo_file_name;body_whl;carrying;extra\n",
            "car;Nissan xTtrail;4;f1.jpeg;;2.5;\n",
            "truck;Man;;f2.png;8x3x2.5;20;\n",
            "truck;Man;;f2.png;;20;\n",
            "car;Mazda 6;4;f3.jpeg;;2.5;\n",
            ";;;\n",
            "spec_machine;Hitachi;;f4;;1.2;Легкая техника для уборки снега\n",
            "\n"
          ]
        }
      ]
    },
    {
      "cell_type": "code",
      "source": [
        "import csv\n",
        "import os\n",
        "import re"
      ],
      "metadata": {
        "id": "26It1qfaUaIH"
      },
      "execution_count": 3,
      "outputs": []
    },
    {
      "cell_type": "code",
      "source": [
        "#открытие файла без заголовка\n",
        "csv_file = \"coursera_week3_cars.csv\"\n",
        "with open(csv_file, encoding = \"utf-8\") as file:\n",
        "    reader = csv.reader(file, delimiter=';')\n",
        "    next(reader)\n",
        "    for row in reader:\n",
        "        print(row)"
      ],
      "metadata": {
        "colab": {
          "base_uri": "https://localhost:8080/"
        },
        "id": "hkjiW2Yz6lEn",
        "outputId": "b111ef62-1f8b-470d-9748-1f8b17ad4462"
      },
      "execution_count": 4,
      "outputs": [
        {
          "output_type": "stream",
          "name": "stdout",
          "text": [
            "['car', 'Nissan xTtrail', '4', 'f1.jpeg', '', '2.5', '']\n",
            "['truck', 'Man', '', 'f2.png', '8x3x2.5', '20', '']\n",
            "['truck', 'Man', '', 'f2.png', '', '20', '']\n",
            "['car', 'Mazda 6', '4', 'f3.jpeg', '', '2.5', '']\n",
            "['', '', '', '']\n",
            "['spec_machine', 'Hitachi', '', 'f4', '', '1.2', 'Легкая техника для уборки снега']\n",
            "[]\n"
          ]
        }
      ]
    },
    {
      "cell_type": "code",
      "source": [
        "#создаем родительский класс и присваеваем ему атрибуты + проверяем на формат файлы-картинки\n",
        "class CarBase:\n",
        "    def __init__(self, brand: str, photo_file_name: str, carrying: float):\n",
        "        assert photo_file_name.endswith((\".jpg\", \".jpeg\", \".png\", \".gif\"))\n",
        "        self.brand = brand\n",
        "        self.photo_file_name = photo_file_name\n",
        "        self.carrying = carrying\n",
        "    \n",
        "    def get_photo_file_ext(self):\n",
        "        return os.path.splitext(self.photo_file_name)[1]"
      ],
      "metadata": {
        "id": "5iUySr9iAIoK"
      },
      "execution_count": 5,
      "outputs": []
    },
    {
      "cell_type": "code",
      "source": [
        "#допустимый максимум перевозки пассажиров в машине по российскому законодательству - 8 человек. То есть мест - от 1 до 8.\n",
        "class Car(CarBase):\n",
        "    def __init__(self, brand: str, passenger_seats_count: int, photo_file_name: str, carrying: float):\n",
        "        self.car_type = 'car'\n",
        "        super(Car, self).__init__(brand, photo_file_name, carrying) \n",
        "        assert 0 < int(passenger_seats_count) < 9\n",
        "        self.passenger_seats_count = passenger_seats_count\n",
        "        self.carrying = carrying\n",
        "        pass"
      ],
      "metadata": {
        "id": "vZQtxv8bBfAO"
      },
      "execution_count": 6,
      "outputs": []
    },
    {
      "cell_type": "code",
      "source": [
        "#допустимая высота грузовых автомобилей - 4,0 метра, допустимая ширина - 2,55 м, допустимая длина (максимальная в случае автопоезда - 20 м)\n",
        "class Truck(CarBase):\n",
        "    def __init__(self, brand: str, photo_file_name: str, carrying: float, body_whl='0x0x0'):\n",
        "        self.car_type = 'truck'\n",
        "        super(Truck, self).__init__(brand, photo_file_name, carrying)\n",
        "        self.body_length = float(body_whl.split('x')[0]) \n",
        "        self.body_width = float(body_whl.split('x')[1])\n",
        "        self.body_height = float(body_whl.split('x')[2])\n",
        "        assert 0 <= self.body_length < 21\n",
        "        assert 0 <= self.body_width < 3\n",
        "        assert 0 <= self.body_height < 5 \n",
        "        pass\n",
        "\n",
        "    def get_body_volume(self):\n",
        "        return self.body_height * self.body_length * self.body_width"
      ],
      "metadata": {
        "id": "Gf1SiimHEcuY"
      },
      "execution_count": 18,
      "outputs": []
    },
    {
      "cell_type": "code",
      "source": [
        "class SpecMachine(CarBase):\n",
        "    def __init__(self, brand: str, photo_file_name: str, carrying: float, extra: str):\n",
        "        self.car_type = 'spec_machine'\n",
        "        super(SpecMachine, self).__init__(brand, photo_file_name, carrying)\n",
        "        self.extra = extra\n",
        "        pass"
      ],
      "metadata": {
        "id": "5ZMlAcFiG1RB"
      },
      "execution_count": 8,
      "outputs": []
    },
    {
      "cell_type": "code",
      "source": [
        "def get_car_list(csv_file):\n",
        "    list_of_cars = []\n",
        "    with open(csv_file) as file:\n",
        "        reader = csv.reader(file, delimiter=';')\n",
        "        next(reader) \n",
        "        for row in reader:\n",
        "            try:\n",
        "                if row[0] == 'car':\n",
        "                    try:\n",
        "                        x = Car(*list(map(row.__getitem__, [1, 2, 3, 5])),)\n",
        "                        list_of_cars.append(x)\n",
        "                    except:\n",
        "                        pass\n",
        "                if row[0] == 'truck':\n",
        "                    if re.match(r'(^.*x.*x.*$)|(^.*\\\\*.*\\\\*.*$)|(^.*х.*х.*$)', row[4]): \n",
        "                    #в случае разделения габаритов по разным символам х кириллицей, x латиницей\n",
        "                        try:\n",
        "                            x = Truck(*list(map(row.__getitem__, [1, 3, 5, 4])),)\n",
        "                            list_of_cars.append(x)\n",
        "                        except:\n",
        "                            pass\n",
        "                    else:\n",
        "                        try:\n",
        "                            x = Truck(*list(map(row.__getitem__, [1, 3, 5])),)\n",
        "                            list_of_cars.append(x)\n",
        "                        except:\n",
        "                            pass\n",
        "                if row[0] == 'spec_machine':            \n",
        "                    try:\n",
        "                        x = SpecMachine(*list(map(row.__getitem__, [1, 3, 5, 6])),)\n",
        "                        list_of_cars.append(x)                \n",
        "                    except:\n",
        "                        pass\n",
        "            except:\n",
        "                pass                   \n",
        "    return list_of_cars"
      ],
      "metadata": {
        "id": "UzFHiNUSR3oX"
      },
      "execution_count": 9,
      "outputs": []
    },
    {
      "cell_type": "code",
      "source": [
        "car = Car('UAZ Patriot', '5', 'uas.png', '0.525')\n",
        "print(car.car_type, car.brand, car.photo_file_name, car.carrying, car.passenger_seats_count, sep='\\n')"
      ],
      "metadata": {
        "colab": {
          "base_uri": "https://localhost:8080/"
        },
        "id": "1uKHX-BZVLTh",
        "outputId": "b7c223bb-b993-4fab-b3a7-88fe3bb2d965"
      },
      "execution_count": 10,
      "outputs": [
        {
          "output_type": "stream",
          "name": "stdout",
          "text": [
            "car\n",
            "UAZ Patriot\n",
            "uas.png\n",
            "0.525\n",
            "5\n"
          ]
        }
      ]
    },
    {
      "cell_type": "code",
      "source": [
        "spec_machine = SpecMachine('Komatsu-D355', 'd355.jpg', '93', 'pipelayer specs')\n",
        "print(spec_machine.car_type, spec_machine.brand, spec_machine.carrying, spec_machine.photo_file_name, spec_machine.extra, sep='\\n')"
      ],
      "metadata": {
        "colab": {
          "base_uri": "https://localhost:8080/"
        },
        "id": "lQ6TnIwY0-Ng",
        "outputId": "ede0242a-219c-45c3-818a-7f1948a704b2"
      },
      "execution_count": 11,
      "outputs": [
        {
          "output_type": "stream",
          "name": "stdout",
          "text": [
            "spec_machine\n",
            "Komatsu-D355\n",
            "93\n",
            "d355.jpg\n",
            "pipelayer specs\n"
          ]
        }
      ]
    },
    {
      "cell_type": "code",
      "source": [
        "spec_machine.get_photo_file_ext()"
      ],
      "metadata": {
        "colab": {
          "base_uri": "https://localhost:8080/",
          "height": 35
        },
        "id": "M4e301aZ1I0s",
        "outputId": "d5688713-3eb7-4a21-c15f-5c3385fa82f5"
      },
      "execution_count": 12,
      "outputs": [
        {
          "output_type": "execute_result",
          "data": {
            "text/plain": [
              "'.jpg'"
            ],
            "application/vnd.google.colaboratory.intrinsic+json": {
              "type": "string"
            }
          },
          "metadata": {},
          "execution_count": 12
        }
      ]
    },
    {
      "cell_type": "code",
      "source": [
        "car.get_photo_file_ext()"
      ],
      "metadata": {
        "colab": {
          "base_uri": "https://localhost:8080/",
          "height": 35
        },
        "id": "96kP8isLyo_O",
        "outputId": "eedd380d-c641-4814-b577-8c419a898482"
      },
      "execution_count": 70,
      "outputs": [
        {
          "output_type": "execute_result",
          "data": {
            "text/plain": [
              "'.png'"
            ],
            "application/vnd.google.colaboratory.intrinsic+json": {
              "type": "string"
            }
          },
          "metadata": {},
          "execution_count": 70
        }
      ]
    },
    {
      "cell_type": "code",
      "source": [
        "truck = Truck('Renault Trucks T-High Турмалин', 'renault.jpeg', '1.3', '6.18x2.534x3.9')\n",
        "\n",
        "print(truck.car_type, truck.brand, truck.photo_file_name, truck.body_length, truck.body_width, truck.body_height, sep='\\n')"
      ],
      "metadata": {
        "colab": {
          "base_uri": "https://localhost:8080/"
        },
        "id": "dOfAhzuzXcUn",
        "outputId": "6525a2eb-32dc-468c-9a89-26569e8fa8ed"
      },
      "execution_count": 73,
      "outputs": [
        {
          "output_type": "stream",
          "name": "stdout",
          "text": [
            "truck\n",
            "Renault Trucks T-High Турмалин\n",
            "renault.jpeg\n",
            "6.18\n",
            "2.534\n",
            "3.9\n"
          ]
        }
      ]
    },
    {
      "cell_type": "code",
      "source": [
        "cars = get_car_list('coursera_week3_cars.csv')\n",
        "len(cars)"
      ],
      "metadata": {
        "colab": {
          "base_uri": "https://localhost:8080/"
        },
        "id": "yYQhEWDP169M",
        "outputId": "63b0f9e6-1388-4079-d418-f62427f0a9ac"
      },
      "execution_count": 16,
      "outputs": [
        {
          "output_type": "execute_result",
          "data": {
            "text/plain": [
              "2"
            ]
          },
          "metadata": {},
          "execution_count": 16
        }
      ]
    },
    {
      "cell_type": "code",
      "source": [
        "cars[1].get_body_volume()"
      ],
      "metadata": {
        "colab": {
          "base_uri": "https://localhost:8080/",
          "height": 165
        },
        "id": "aMnNQD_f1NOA",
        "outputId": "d539aee7-8b99-4ca5-9b3b-95c4591d50fd"
      },
      "execution_count": 19,
      "outputs": [
        {
          "output_type": "error",
          "ename": "AttributeError",
          "evalue": "ignored",
          "traceback": [
            "\u001b[0;31m---------------------------------------------------------------------------\u001b[0m",
            "\u001b[0;31mAttributeError\u001b[0m                            Traceback (most recent call last)",
            "\u001b[0;32m<ipython-input-19-c862a7a2c224>\u001b[0m in \u001b[0;36m<module>\u001b[0;34m()\u001b[0m\n\u001b[0;32m----> 1\u001b[0;31m \u001b[0mcars\u001b[0m\u001b[0;34m[\u001b[0m\u001b[0;36m1\u001b[0m\u001b[0;34m]\u001b[0m\u001b[0;34m.\u001b[0m\u001b[0mget_body_volume\u001b[0m\u001b[0;34m(\u001b[0m\u001b[0;34m)\u001b[0m\u001b[0;34m\u001b[0m\u001b[0;34m\u001b[0m\u001b[0m\n\u001b[0m",
            "\u001b[0;31mAttributeError\u001b[0m: 'Car' object has no attribute 'get_body_volume'"
          ]
        }
      ]
    },
    {
      "cell_type": "code",
      "source": [
        "cars[0].passenger_seats_count"
      ],
      "metadata": {
        "colab": {
          "base_uri": "https://localhost:8080/",
          "height": 35
        },
        "id": "sUoai6311axh",
        "outputId": "b97831b9-25ef-4700-c8cb-916bc655d8c5"
      },
      "execution_count": 20,
      "outputs": [
        {
          "output_type": "execute_result",
          "data": {
            "text/plain": [
              "'4'"
            ],
            "application/vnd.google.colaboratory.intrinsic+json": {
              "type": "string"
            }
          },
          "metadata": {},
          "execution_count": 20
        }
      ]
    }
  ]
}